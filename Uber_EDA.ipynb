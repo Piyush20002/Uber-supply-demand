{
  "nbformat": 4,
  "nbformat_minor": 0,
  "metadata": {
    "colab": {
      "private_outputs": true,
      "provenance": [],
      "include_colab_link": true
    },
    "kernelspec": {
      "name": "python3",
      "display_name": "Python 3"
    },
    "language_info": {
      "name": "python"
    }
  },
  "cells": [
    {
      "cell_type": "markdown",
      "metadata": {
        "id": "view-in-github",
        "colab_type": "text"
      },
      "source": [
        "<a href=\"https://colab.research.google.com/github/Piyush20002/Uber-supply-demand/blob/main/Uber_EDA.ipynb\" target=\"_parent\"><img src=\"https://colab.research.google.com/assets/colab-badge.svg\" alt=\"Open In Colab\"/></a>"
      ]
    },
    {
      "cell_type": "code",
      "source": [],
      "metadata": {
        "id": "I1apcow5dxii"
      },
      "execution_count": null,
      "outputs": []
    },
    {
      "cell_type": "markdown",
      "source": [
        "# **Project Name**    -\n",
        "\n"
      ],
      "metadata": {
        "id": "vncDsAP0Gaoa"
      }
    },
    {
      "cell_type": "markdown",
      "source": [
        "##### **Project Type**    - EDA/Regression/Classification/Unsupervised\n",
        "##### **Contribution**    - Individual/Team\n",
        "**Name**: Piyush Chaudhari"
      ],
      "metadata": {
        "id": "beRrZCGUAJYm"
      }
    },
    {
      "cell_type": "markdown",
      "source": [
        "# **Project Summary -**"
      ],
      "metadata": {
        "id": "FJNUwmbgGyua"
      }
    },
    {
      "cell_type": "markdown",
      "source": [
        "The objective of this project is to analyze Uber request data to identify patterns in demand, cancellation rates, and service gaps across different time segments and pickup locations. The insights will help Uber optimize driver allocation, reduce cancellations, and improve customer satisfaction.\n",
        "\n",
        "Using visualizations like pie charts, count plots, and correlation heatmaps, the data was analyzed across variables such as pickup point, request status, time of day, and trip duration. The analysis reveals significant demand fluctuations and identifies areas of operational challenges during peak hours."
      ],
      "metadata": {
        "id": "F6v_1wHtG2nS"
      }
    },
    {
      "cell_type": "markdown",
      "source": [
        "# **GitHub Link -**"
      ],
      "metadata": {
        "id": "w6K7xa23Elo4"
      }
    },
    {
      "cell_type": "markdown",
      "source": [
        "Provide your GitHub Link here."
      ],
      "metadata": {
        "id": "h1o69JH3Eqqn"
      }
    },
    {
      "cell_type": "markdown",
      "source": [
        "# **Problem Statement**\n"
      ],
      "metadata": {
        "id": "yQaldy8SH6Dl"
      }
    },
    {
      "cell_type": "markdown",
      "source": [
        "**Uber faces challenges in balancing customer demand with driver supply, especially during certain time segments. High cancellation rates and unavailability of cars at specific locations lead to customer dissatisfaction and revenue loss. The goal is to analyze request patterns to optimize operational efficiency..**"
      ],
      "metadata": {
        "id": "DpeJGUA3kjGy"
      }
    },
    {
      "cell_type": "markdown",
      "source": [
        "#### **Define Your Business Objective?**"
      ],
      "metadata": {
        "id": "PH-0ReGfmX4f"
      }
    },
    {
      "cell_type": "markdown",
      "source": [
        "* Identify peak demand periods across time segments.\n",
        "\n",
        "* Analyze the distribution of cancellations and unavailability of cars.\n",
        "\n",
        "* Provide actionable insights to improve driver allocation and reduce cancellations.\n",
        "\n",
        "* Improve overall customer satisfaction and business profitability.\n",
        "\n"
      ],
      "metadata": {
        "id": "PhDvGCAqmjP1"
      }
    },
    {
      "cell_type": "markdown",
      "source": [
        "# ***Let's Begin !***"
      ],
      "metadata": {
        "id": "O_i_v8NEhb9l"
      }
    },
    {
      "cell_type": "markdown",
      "source": [
        "## ***1. Know Your Data***"
      ],
      "metadata": {
        "id": "HhfV-JJviCcP"
      }
    },
    {
      "cell_type": "markdown",
      "source": [
        "### Import Libraries"
      ],
      "metadata": {
        "id": "Y3lxredqlCYt"
      }
    },
    {
      "cell_type": "code",
      "source": [
        "# Import Libraries\n",
        "import numpy as np\n",
        "import pandas as pd\n",
        "import matplotlib.pyplot as plt\n",
        "import seaborn as sns\n"
      ],
      "metadata": {
        "id": "M8Vqi-pPk-HR"
      },
      "execution_count": null,
      "outputs": []
    },
    {
      "cell_type": "markdown",
      "source": [
        "### Dataset Loading"
      ],
      "metadata": {
        "id": "3RnN4peoiCZX"
      }
    },
    {
      "cell_type": "code",
      "source": [
        "# Load Dataset\n",
        "df = pd.read_csv('/content/Uber Request Data Cleaned.csv')"
      ],
      "metadata": {
        "id": "4CkvbW_SlZ_R"
      },
      "execution_count": null,
      "outputs": []
    },
    {
      "cell_type": "markdown",
      "source": [
        "### Dataset First View"
      ],
      "metadata": {
        "id": "x71ZqKXriCWQ"
      }
    },
    {
      "cell_type": "code",
      "source": [
        "# Dataset First Look\n",
        "df.head()"
      ],
      "metadata": {
        "id": "LWNFOSvLl09H"
      },
      "execution_count": null,
      "outputs": []
    },
    {
      "cell_type": "markdown",
      "source": [
        "### Dataset Rows & Columns count"
      ],
      "metadata": {
        "id": "7hBIi_osiCS2"
      }
    },
    {
      "cell_type": "code",
      "source": [
        "# Dataset Rows & Columns count\n",
        "print(df.shape[0])\n",
        "print(df.shape[1])"
      ],
      "metadata": {
        "id": "Kllu7SJgmLij"
      },
      "execution_count": null,
      "outputs": []
    },
    {
      "cell_type": "markdown",
      "source": [
        "### Dataset Information"
      ],
      "metadata": {
        "id": "JlHwYmJAmNHm"
      }
    },
    {
      "cell_type": "code",
      "source": [
        "# Dataset Info\n",
        "print(df.info())"
      ],
      "metadata": {
        "id": "e9hRXRi6meOf"
      },
      "execution_count": null,
      "outputs": []
    },
    {
      "cell_type": "markdown",
      "source": [
        "#### Duplicate Values"
      ],
      "metadata": {
        "id": "35m5QtbWiB9F"
      }
    },
    {
      "cell_type": "code",
      "source": [
        "# Dataset Duplicate Value Count\n",
        "\n",
        "duplicate_count = df.duplicated().sum()\n",
        "\n",
        "print(f\"Total Duplicate Rows in Dataset: {duplicate_count}\")\n"
      ],
      "metadata": {
        "id": "1sLdpKYkmox0"
      },
      "execution_count": null,
      "outputs": []
    },
    {
      "cell_type": "markdown",
      "source": [
        "## ***2. Understanding Your Variables***"
      ],
      "metadata": {
        "id": "nA9Y7ga8ng1Z"
      }
    },
    {
      "cell_type": "code",
      "source": [
        "# Dataset Columns\n",
        "print(df.columns)"
      ],
      "metadata": {
        "id": "j7xfkqrt5Ag5"
      },
      "execution_count": null,
      "outputs": []
    },
    {
      "cell_type": "code",
      "source": [
        "# Dataset Describe\n",
        "df.describe()"
      ],
      "metadata": {
        "id": "DnOaZdaE5Q5t"
      },
      "execution_count": null,
      "outputs": []
    },
    {
      "cell_type": "markdown",
      "source": [
        "### Variables Description"
      ],
      "metadata": {
        "id": "PBTbrJXOngz2"
      }
    },
    {
      "cell_type": "markdown",
      "source": [
        "Answer Here"
      ],
      "metadata": {
        "id": "aJV4KIxSnxay"
      }
    },
    {
      "cell_type": "markdown",
      "source": [
        "### Check Unique Values for each variable."
      ],
      "metadata": {
        "id": "u3PMJOP6ngxN"
      }
    },
    {
      "cell_type": "code",
      "source": [
        "# Check Unique Values for each variable.\n",
        "for column in df.columns:\n",
        "    print(f\"Column: {column} has {df[column].nunique()} unique values.\")"
      ],
      "metadata": {
        "id": "zms12Yq5n-jE"
      },
      "execution_count": null,
      "outputs": []
    },
    {
      "cell_type": "markdown",
      "source": [
        "## 3. ***Data Wrangling***"
      ],
      "metadata": {
        "id": "dauF4eBmngu3"
      }
    },
    {
      "cell_type": "markdown",
      "source": [
        "### Data Wrangling Code"
      ],
      "metadata": {
        "id": "bKJF3rekwFvQ"
      }
    },
    {
      "cell_type": "code",
      "source": [
        "# Write your code to make your dataset analysis ready.\n",
        "# Filling missing Driver id with 0 (for unassigned requests)\n",
        "df['Driver id'].fillna(0, inplace=True)\n",
        "\n",
        "# Filling missing Drop Date, Drop timestamp, Trip Duration with 'Not Completed'\n",
        "df['Drop Date'].fillna('Not Completed', inplace=True)\n",
        "df['Drop timestamp'].fillna('Not Completed', inplace=True)\n",
        "df['Trip Duration (minutes)'].fillna(0, inplace=True)\n",
        "\n",
        "# Create new Daypart segmentation (if not already available)\n",
        "def get_daypart(hour):\n",
        "    if 0 <= hour < 5:\n",
        "        return 'Late Night'\n",
        "    elif 5 <= hour < 10:\n",
        "        return 'Morning Rush'\n",
        "    elif 10 <= hour < 17:\n",
        "        return 'Day Time'\n",
        "    elif 17 <= hour < 22:\n",
        "        return 'Evening Rush'\n",
        "    else:\n",
        "        return 'Night'\n",
        "\n",
        "df['Daypart'] = df['Request Hour'].apply(get_daypart)"
      ],
      "metadata": {
        "id": "wk-9a2fpoLcV"
      },
      "execution_count": null,
      "outputs": []
    },
    {
      "cell_type": "markdown",
      "source": [
        "### What all manipulations have you done and insights you found?"
      ],
      "metadata": {
        "id": "MSa1f5Uengrz"
      }
    },
    {
      "cell_type": "markdown",
      "source": [
        "Answer Here."
      ],
      "metadata": {
        "id": "LbyXE7I1olp8"
      }
    },
    {
      "cell_type": "markdown",
      "source": [
        "## ***4. Data Vizualization, Storytelling & Experimenting with charts : Understand the relationships between variables***"
      ],
      "metadata": {
        "id": "GF8Ens_Soomf"
      }
    },
    {
      "cell_type": "markdown",
      "source": [
        "#### Chart - 1"
      ],
      "metadata": {
        "id": "0wOQAZs5pc--"
      }
    },
    {
      "cell_type": "code",
      "source": [
        "# Chart - 1 visualization code\n",
        "\n",
        "# Count of each Status\n",
        "status_counts = df['Status'].value_counts()\n",
        "\n",
        "# Plot pie chart\n",
        "plt.figure(figsize=(7,7))\n",
        "plt.pie(status_counts, labels=status_counts.index, autopct='%1.1f%%', startangle=140, colors=['#66b3ff','#ff9999','#99ff99'])\n",
        "plt.title('Trip Status Distribution', fontsize=16)\n",
        "plt.show()\n"
      ],
      "metadata": {
        "id": "jGDGx-vj2c3u"
      },
      "execution_count": null,
      "outputs": []
    },
    {
      "cell_type": "markdown",
      "source": [
        "##### 1. Why did you pick the specific chart?"
      ],
      "metadata": {
        "id": "K5QZ13OEpz2H"
      }
    },
    {
      "cell_type": "markdown",
      "source": [
        "* Pie charts are very effective when you want to show proportion or percentage contribution of categories.\n",
        "\n",
        "* In this case, the Status column contains only 3 categories: Completed, Cancelled, No Cars Available — making it ideal for a simple pie visualization.\n",
        "\n",
        "* It gives immediate clarity on the operational performance of Uber.\n",
        "\n"
      ],
      "metadata": {
        "id": "XESiWehPqBRc"
      }
    },
    {
      "cell_type": "markdown",
      "source": [],
      "metadata": {
        "id": "UZCTFELS3Gt4"
      }
    },
    {
      "cell_type": "markdown",
      "source": [
        "##### 2. What is/are the insight(s) found from the chart?"
      ],
      "metadata": {
        "id": "lQ7QKXXCp7Bj"
      }
    },
    {
      "cell_type": "markdown",
      "source": [
        "* The pie chart shows what fraction of all trip requests are successfully Completed, how many were Cancelled, and how many had No Cars Available.\n",
        "\n",
        "* If the proportion of cancellations or no cars available is high, it indicates:\n",
        "\n",
        "- Demand-Supply Gap\n",
        "\n",
        "- Driver unavailability during peak times\n",
        "\n",
        "- Customer dissatisfaction risk"
      ],
      "metadata": {
        "id": "C_j1G7yiqdRP"
      }
    },
    {
      "cell_type": "markdown",
      "source": [
        "#### Chart - 2"
      ],
      "metadata": {
        "id": "KSlN3yHqYklG"
      }
    },
    {
      "cell_type": "code",
      "source": [
        "# Chart - 2 visualization code\n",
        "plt.figure(figsize=(8,6))\n",
        "sns.countplot(x='Pickup point', hue='Status', data=df, palette='Set2')\n",
        "plt.title('Pickup Point vs Status', fontsize=16)\n",
        "plt.xlabel('Pickup Point')\n",
        "plt.ylabel('Number of Requests')\n",
        "plt.legend(title='Status')\n",
        "plt.show()\n"
      ],
      "metadata": {
        "id": "R4YgtaqtYklH"
      },
      "execution_count": null,
      "outputs": []
    },
    {
      "cell_type": "markdown",
      "source": [
        "##### 1. Why did you pick the specific chart?"
      ],
      "metadata": {
        "id": "t6dVpIINYklI"
      }
    },
    {
      "cell_type": "markdown",
      "source": [
        "* It allows us to compare how trip Status varies across different Pickup Points (City vs Airport).\n",
        "\n",
        "* Grouped bar charts are very effective when comparing multiple categories (Status) across a categorical variable (Pickup point).\n",
        "\n",
        "* This gives a clear visualization of service performance by pickup location.\n",
        "\n"
      ],
      "metadata": {
        "id": "5aaW0BYyYklI"
      }
    },
    {
      "cell_type": "markdown",
      "source": [
        "##### 2. What is/are the insight(s) found from the chart?"
      ],
      "metadata": {
        "id": "ijmpgYnKYklI"
      }
    },
    {
      "cell_type": "markdown",
      "source": [
        "* Cancellations and No Cars Available are significantly higher for certain pickup points.\n",
        "\n",
        "* Typically: Airport pickups often have higher “No Cars Available” counts.City pickups may have higher “Cancelled” trips, possibly due to traffic, rider impatience, or driver issues.\n",
        "\n",
        "* It helps identify operational problem zones — for example:Uber might need more active drivers near the airport during certain periods.Training or incentives may be needed for city-based cancellations.\n",
        "\n"
      ],
      "metadata": {
        "id": "PSx9atu2YklI"
      }
    },
    {
      "cell_type": "markdown",
      "source": [
        "##### 3. Will the gained insights help creating a positive business impact?\n",
        "Are there any insights that lead to negative growth? Justify with specific reason."
      ],
      "metadata": {
        "id": "-JiQyfWJYklI"
      }
    },
    {
      "cell_type": "markdown",
      "source": [
        "#### Chart - 3"
      ],
      "metadata": {
        "id": "EM7whBJCYoAo"
      }
    },
    {
      "cell_type": "code",
      "source": [
        "# Chart - 3 visualization code\n",
        "\n",
        "plt.figure(figsize=(8,6))\n",
        "sns.countplot(x='Daypart', data=df, palette='viridis')\n",
        "plt.title('Total Demand by Time of Day Segment (Daypart)', fontsize=16)\n",
        "plt.xlabel('Daypart')\n",
        "plt.ylabel('Number of Requests')\n",
        "plt.xticks(rotation=45)\n",
        "plt.show()\n",
        "\n"
      ],
      "metadata": {
        "id": "t6GMdE67YoAp"
      },
      "execution_count": null,
      "outputs": []
    },
    {
      "cell_type": "markdown",
      "source": [
        "##### 1. Why did you pick the specific chart?"
      ],
      "metadata": {
        "id": "fge-S5ZAYoAp"
      }
    },
    {
      "cell_type": "markdown",
      "source": [
        "* It is ideal for showing the total volume of requests across different time segments of the day.\n",
        "\n",
        "* Since Daypart is a categorical variable representing time segments (e.g. Morning, Afternoon, Evening, etc.), a single-variable countplot quickly shows which periods have higher or lower demand.\n",
        "\n",
        "* This chart helps Uber identify peak demand periods easily."
      ],
      "metadata": {
        "id": "5dBItgRVYoAp"
      }
    },
    {
      "cell_type": "markdown",
      "source": [
        "##### 2. What is/are the insight(s) found from the chart?"
      ],
      "metadata": {
        "id": "85gYPyotYoAp"
      }
    },
    {
      "cell_type": "markdown",
      "source": [
        "Demand peaks during Morning and Evening Rush hours, while Late Night and Early Morning show lower demand but risk driver shortages. Uber can optimize driver allocation and offer incentives to balance supply with peak demand, improving service reliability.\n",
        "\n"
      ],
      "metadata": {
        "id": "4jstXR6OYoAp"
      }
    },
    {
      "cell_type": "markdown",
      "source": [
        "#### Chart - 4"
      ],
      "metadata": {
        "id": "4Of9eVA-YrdM"
      }
    },
    {
      "cell_type": "code",
      "source": [
        "# Chart - 4 visualization code\n",
        "plt.figure(figsize=(12, 6))\n",
        "sns.countplot(x='Daypart', hue='Status', data=df, palette='Set2')\n",
        "plt.title('Requests by Status and Time Segment', fontsize=16)\n",
        "plt.xlabel('Time Segment (Daypart)')\n",
        "plt.ylabel('Number of Requests')\n",
        "plt.xticks(rotation=45)\n",
        "plt.legend(title='Status')\n",
        "plt.show()\n",
        "\n"
      ],
      "metadata": {
        "id": "irlUoxc8YrdO"
      },
      "execution_count": null,
      "outputs": []
    },
    {
      "cell_type": "markdown",
      "source": [
        "##### 1. Why did you pick the specific chart?"
      ],
      "metadata": {
        "id": "iky9q4vBYrdO"
      }
    },
    {
      "cell_type": "markdown",
      "source": [
        "Answer Here."
      ],
      "metadata": {
        "id": "aJRCwT6DYrdO"
      }
    },
    {
      "cell_type": "markdown",
      "source": [
        "##### 2. What is/are the insight(s) found from the chart?"
      ],
      "metadata": {
        "id": "F6T5p64dYrdO"
      }
    },
    {
      "cell_type": "markdown",
      "source": [
        "Answer Here"
      ],
      "metadata": {
        "id": "Xx8WAJvtYrdO"
      }
    },
    {
      "cell_type": "markdown",
      "source": [
        "#### Chart - 5"
      ],
      "metadata": {
        "id": "bamQiAODYuh1"
      }
    },
    {
      "cell_type": "code",
      "source": [
        "# Convert timestamp to datetime if not already\n",
        "df['Request timestamp'] = pd.to_datetime(df['Request timestamp'])\n",
        "\n",
        "# Extract hour\n",
        "df['Request Hour'] = df['Request timestamp'].dt.hour\n",
        "\n",
        "# Plot\n",
        "plt.figure(figsize=(12, 6))\n",
        "sns.countplot(x='Request Hour', data=df, palette='Set2')\n",
        "plt.title('Requests per Hour of Day', fontsize=16)\n",
        "plt.xlabel('Hour of Day')\n",
        "plt.ylabel('Number of Requests')\n",
        "plt.xticks(rotation=45)\n",
        "plt.show()\n"
      ],
      "metadata": {
        "id": "SrkmiEtv0LeW"
      },
      "execution_count": null,
      "outputs": []
    },
    {
      "cell_type": "markdown",
      "source": [
        "##### 1. Why did you pick the specific chart?"
      ],
      "metadata": {
        "id": "QHF8YVU7Yuh3"
      }
    },
    {
      "cell_type": "markdown",
      "source": [
        "* It clearly compares trip outcomes (Status) across different time segments (Daypart).\n",
        "\n",
        "* Grouped bar charts are effective to visualize distribution of success and failure rates by time of day.\n",
        "\n",
        "* It helps to easily spot when cancellations or no cars are more frequent."
      ],
      "metadata": {
        "id": "dcxuIMRPYuh3"
      }
    },
    {
      "cell_type": "markdown",
      "source": [
        "##### 2. What is/are the insight(s) found from the chart?"
      ],
      "metadata": {
        "id": "GwzvFGzlYuh3"
      }
    },
    {
      "cell_type": "markdown",
      "source": [
        "Answer Here"
      ],
      "metadata": {
        "id": "uyqkiB8YYuh3"
      }
    },
    {
      "cell_type": "markdown",
      "source": [
        "#### Chart - 6"
      ],
      "metadata": {
        "id": "OH-pJp9IphqM"
      }
    },
    {
      "cell_type": "code",
      "source": [
        "# Chart - 6 visualization code\n",
        "plt.figure(figsize=(12,6))\n",
        "sns.countplot(x='Request Hour', hue='Pickup point', data=df, palette='Set1')\n",
        "plt.title('Pickup Point Distribution by Hour of Day', fontsize=16)\n",
        "plt.xlabel('Hour of Day')\n",
        "plt.ylabel('Number of Requests')\n",
        "plt.xticks(rotation=45)\n",
        "plt.legend(title='Pickup Point')\n",
        "plt.show()"
      ],
      "metadata": {
        "id": "kuRf4wtuphqN"
      },
      "execution_count": null,
      "outputs": []
    },
    {
      "cell_type": "markdown",
      "source": [
        "##### 1. Why did you pick the specific chart?"
      ],
      "metadata": {
        "id": "bbFf2-_FphqN"
      }
    },
    {
      "cell_type": "markdown",
      "source": [
        "Answer Here."
      ],
      "metadata": {
        "id": "loh7H2nzphqN"
      }
    },
    {
      "cell_type": "markdown",
      "source": [
        "##### 2. What is/are the insight(s) found from the chart?"
      ],
      "metadata": {
        "id": "_ouA3fa0phqN"
      }
    },
    {
      "cell_type": "markdown",
      "source": [
        "Answer Here"
      ],
      "metadata": {
        "id": "VECbqPI7phqN"
      }
    },
    {
      "cell_type": "markdown",
      "source": [
        "#### Chart - 7"
      ],
      "metadata": {
        "id": "PIIx-8_IphqN"
      }
    },
    {
      "cell_type": "code",
      "source": [
        "# Chart - 7 visualization code\n",
        "plt.figure(figsize=(12,6))\n",
        "sns.countplot(x='Request Date', hue='Daypart', data=df, palette='Set2')\n",
        "plt.title('Number of Requests per Day by Time Segment', fontsize=16)\n",
        "plt.xlabel('Request Date')\n",
        "plt.ylabel('Number of Requests')\n",
        "plt.xticks(rotation=45)\n",
        "plt.legend(title='Daypart')\n",
        "plt.show()\n"
      ],
      "metadata": {
        "id": "lqAIGUfyphqO"
      },
      "execution_count": null,
      "outputs": []
    },
    {
      "cell_type": "markdown",
      "source": [
        "##### 1. Why did you pick the specific chart?"
      ],
      "metadata": {
        "id": "t27r6nlMphqO"
      }
    },
    {
      "cell_type": "markdown",
      "source": [
        "* It shows how pickup locations (City vs Airport) vary across different hours of the day.\n",
        "\n",
        "* The hourly distribution helps identify peak hours for each pickup point.\n",
        "\n",
        "* Grouped bar charts make it easy to compare multiple categories across continuous variables like hours.\n",
        "\n"
      ],
      "metadata": {
        "id": "iv6ro40sphqO"
      }
    },
    {
      "cell_type": "markdown",
      "source": [
        "##### 2. What is/are the insight(s) found from the chart?"
      ],
      "metadata": {
        "id": "r2jJGEOYphqO"
      }
    },
    {
      "cell_type": "markdown",
      "source": [
        "* City pickups dominate during most hours of the day.\n",
        "\n",
        "* Airport pickups spike during specific periods (often late night or early morning, depending on flight schedules).\n",
        "\n",
        "* These patterns help Uber optimize driver allocation at both pickup points depending on time of day.Answer Here"
      ],
      "metadata": {
        "id": "Po6ZPi4hphqO"
      }
    },
    {
      "cell_type": "markdown",
      "source": [
        "#### Chart - 8"
      ],
      "metadata": {
        "id": "BZR9WyysphqO"
      }
    },
    {
      "cell_type": "code",
      "source": [
        "plt.figure(figsize=(12, 6))\n",
        "sns.countplot(x='Daypart', hue='Status', data=df, palette='Set2')\n",
        "plt.title('Requests by Status and Time Segment', fontsize=16)\n",
        "plt.xlabel('Time Segment (Daypart)')\n",
        "plt.ylabel('Number of Requests')\n",
        "plt.xticks(rotation=45)\n",
        "plt.legend(title='Status')\n",
        "plt.show()\n",
        "\n"
      ],
      "metadata": {
        "id": "TdPTWpAVphqO"
      },
      "execution_count": null,
      "outputs": []
    },
    {
      "cell_type": "markdown",
      "source": [
        "##### 1. Why did you pick the specific chart?"
      ],
      "metadata": {
        "id": "jj7wYXLtphqO"
      }
    },
    {
      "cell_type": "markdown",
      "source": [
        "* It helps visualize daily demand patterns broken down by time segments (Dayparts).\n",
        "\n",
        "* Grouped bar charts allow easy comparison of how demand varies for each day across different times of day.\n",
        "\n",
        "* This chart supports operational planning on a day-by-day basis.\n",
        "\n"
      ],
      "metadata": {
        "id": "Ob8u6rCTphqO"
      }
    },
    {
      "cell_type": "markdown",
      "source": [
        "##### 2. What is/are the insight(s) found from the chart?"
      ],
      "metadata": {
        "id": "eZrbJ2SmphqO"
      }
    },
    {
      "cell_type": "markdown",
      "source": [
        "* Some days show higher total demand compared to others.\n",
        "\n",
        "* Morning and Evening Rush segments consistently have higher requests across multiple days.\n",
        "\n",
        "* The chart highlights specific days with spikes in demand, which Uber can analyze for events, holidays, or external factors affecting demand."
      ],
      "metadata": {
        "id": "mZtgC_hjphqO"
      }
    },
    {
      "cell_type": "markdown",
      "source": [
        "##### 3. Will the gained insights help creating a positive business impact?\n",
        "Are there any insights that lead to negative growth? Justify with specific reason."
      ],
      "metadata": {
        "id": "rFu4xreNphqO"
      }
    },
    {
      "cell_type": "markdown",
      "source": [
        "Answer Here"
      ],
      "metadata": {
        "id": "ey_0qi68phqO"
      }
    },
    {
      "cell_type": "markdown",
      "source": [
        "#### Chart - 9"
      ],
      "metadata": {
        "id": "YJ55k-q6phqO"
      }
    },
    {
      "cell_type": "code",
      "source": [
        "# Chart - 9 visualization code\n",
        "\n",
        "# timestamp is datetime\n",
        "df['Request timestamp'] = pd.to_datetime(df['Request timestamp'])\n",
        "df['Request Hour'] = df['Request timestamp'].dt.hour\n",
        "\n",
        "# Filter for Cancelled trips\n",
        "cancelled = df[df['Status'] == 'Cancelled']\n",
        "\n",
        "# Group by Hour\n",
        "cancelled_by_hour = cancelled.groupby('Request Hour').size()\n",
        "\n",
        "# Plot\n",
        "plt.figure(figsize=(12,6))\n",
        "plt.plot(cancelled_by_hour.index, cancelled_by_hour.values, marker='o', linestyle='-', color='red')\n",
        "plt.title('Cancelled Trips by Hour', fontsize=16)\n",
        "plt.xlabel('Hour of Day')\n",
        "plt.ylabel('Number of Cancelled Trips')\n",
        "plt.xticks(range(0, 24), rotation=45)\n",
        "\n",
        "# Add data labels\n",
        "for x, y in zip(cancelled_by_hour.index, cancelled_by_hour.values):\n",
        "    plt.text(x, y, str(y), ha='center', va='bottom', fontsize=10)\n",
        "\n",
        "plt.grid(True)\n",
        "plt.show()\n"
      ],
      "metadata": {
        "id": "B2aS4O1ophqO"
      },
      "execution_count": null,
      "outputs": []
    },
    {
      "cell_type": "markdown",
      "source": [
        "##### 1. Why did you pick the specific chart?"
      ],
      "metadata": {
        "id": "gCFgpxoyphqP"
      }
    },
    {
      "cell_type": "markdown",
      "source": [
        "I selected a line chart because it effectively shows how cancelled trips vary across different hours of the day. A line chart is suitable for representing continuous data over time (in this case, hours of the day), and makes it easy to observe trends, peaks, and drops in cancellations. The addition of data labels helps to quickly identify the exact number of cancellations at each hour."
      ],
      "metadata": {
        "id": "TVxDimi2phqP"
      }
    },
    {
      "cell_type": "markdown",
      "source": [
        "##### 2. What is/are the insight(s) found from the chart?"
      ],
      "metadata": {
        "id": "OVtJsKN_phqQ"
      }
    },
    {
      "cell_type": "markdown",
      "source": [
        "* The number of cancellations is not uniform throughout the day.\n",
        "\n",
        "* There are clear peaks in cancellations during the morning peak hours (e.g., 5 AM to 9 AM) and again during evening hours (around 5 PM to 9 PM), which likely coincide with office commute times.\n",
        "\n",
        "* The cancellation rate is much lower during late night and early afternoon hours.\n",
        "\n",
        "* This indicates that during peak demand hours, supply-demand mismatch or driver unavailability may be leading to a higher number of cancellations.\n",
        "\n",
        "\n"
      ],
      "metadata": {
        "id": "ngGi97qjphqQ"
      }
    },
    {
      "cell_type": "markdown",
      "source": [
        "*italicized text*#### Chart - 10 - Correlation Heatmap"
      ],
      "metadata": {
        "id": "NC_X3p0fY2L0"
      }
    },
    {
      "cell_type": "code",
      "source": [
        "# Correlation Heatmap visualization code\n",
        "\n",
        "# Selecting numeric columns only\n",
        "numeric_cols = ['Request id', 'Driver id', 'Trip Duration (minutes)', 'Request Hour']\n",
        "\n",
        "# Compute correlation matrix\n",
        "corr = df[numeric_cols].corr()\n",
        "\n",
        "# Plot heatmap\n",
        "plt.figure(figsize=(8,6))\n",
        "sns.heatmap(corr, annot=True, cmap='coolwarm', fmt='.2f')\n",
        "plt.title('Correlation Heatmap', fontsize=16)\n",
        "plt.show()\n"
      ],
      "metadata": {
        "id": "xyC9zolEZNRQ"
      },
      "execution_count": null,
      "outputs": []
    },
    {
      "cell_type": "markdown",
      "source": [
        "##### 1. Why did you pick the specific chart?"
      ],
      "metadata": {
        "id": "UV0SzAkaZNRQ"
      }
    },
    {
      "cell_type": "markdown",
      "source": [
        "* It helps to visualize the strength and direction of relationships between numerical variables.\n",
        "\n",
        "* Heatmaps give a quick and intuitive visual summary of how strongly features are correlated.\n",
        "\n",
        "* This supports feature selection and deeper analysis for modeling or operational insights."
      ],
      "metadata": {
        "id": "DVPuT8LYZNRQ"
      }
    },
    {
      "cell_type": "markdown",
      "source": [
        "##### 2. What is/are the insight(s) found from the chart?"
      ],
      "metadata": {
        "id": "YPEH6qLeZNRQ"
      }
    },
    {
      "cell_type": "markdown",
      "source": [
        "* There is generally low correlation between most variables, which suggests:\n",
        "\n",
        "* Each variable provides somewhat independent information.\n",
        "\n",
        "* Trip Duration may have a slight positive correlation with Request Hour (possibly longer trips at certain times).\n",
        "\n",
        "* No strong multicollinearity is observed among these features."
      ],
      "metadata": {
        "id": "bfSqtnDqZNRR"
      }
    },
    {
      "cell_type": "markdown",
      "source": [
        "## **5. Solution to Business Objective**"
      ],
      "metadata": {
        "id": "JcMwzZxoAimU"
      }
    },
    {
      "cell_type": "markdown",
      "source": [
        "#### What do you suggest the client to achieve Business Objective ?\n",
        "* Maximize driver availability during high demand hours (morning and evening).\n",
        "\n",
        "* Boost marketing campaigns for low-demand areas like Airport.\n",
        "\n",
        "* Consider surge pricing during Friday peaks.\n",
        "\n",
        "* Use historical trip duration data to optimize trip pricing models."
      ],
      "metadata": {
        "id": "8G2x9gOozGDZ"
      }
    },
    {
      "cell_type": "code",
      "source": [],
      "metadata": {
        "id": "teEzRD3k5xmf"
      },
      "execution_count": null,
      "outputs": []
    },
    {
      "cell_type": "markdown",
      "source": [
        "# **Conclusion**"
      ],
      "metadata": {
        "id": "gCX9965dhzqZ"
      }
    },
    {
      "cell_type": "markdown",
      "source": [
        "The dataset revealed clear demand patterns in terms of location, time, and weekday.\n",
        "\n",
        "With proper driver allocation and pricing strategies, the company can improve both revenue and customer satisfaction.\n",
        "\n",
        "Regular data monitoring can further refine these strategies.\n",
        "\n",
        "The Exploratory Data Analysis of Uber request data reveals key operational challenges and opportunities. The demand for rides fluctuates significantly across different times of the day, with Morning Rush and Evening Rush consistently showing the highest number of requests. However, these peak periods also experience the highest rates of cancellations and driver unavailability, especially at the Airport pickup point.\n",
        "\n",
        "The analysis of daily, hourly, and location-wise trends indicates that better driver allocation strategies, targeted incentives for drivers during peak hours, and improving driver availability at critical locations can significantly reduce cancellations and service gaps.\n",
        "\n",
        "There is generally low correlation between numerical variables, which suggests that each feature provides unique insights. These findings can guide Uber’s operations team to improve resource planning, reduce customer dissatisfaction, and optimize business performance."
      ],
      "metadata": {
        "id": "Fjb1IsQkh3yE"
      }
    }
  ]
}